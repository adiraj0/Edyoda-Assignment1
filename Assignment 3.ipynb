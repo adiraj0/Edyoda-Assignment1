{
 "cells": [
  {
   "cell_type": "markdown",
   "metadata": {},
   "source": [
    "## Q1 Write a Python function to sum all the numbers in a list.\n",
    "\n",
    "\n",
    "\n",
    "Sample List : (8, 2, 3, 0, 7)\n",
    "\n",
    "Expected Output : 20\n",
    "\n"
   ]
  },
  {
   "cell_type": "code",
   "execution_count": 1,
   "metadata": {},
   "outputs": [
    {
     "name": "stdout",
     "output_type": "stream",
     "text": [
      "20\n"
     ]
    }
   ],
   "source": [
    "def sum_of_list(x):\n",
    "    sum1 = 0\n",
    "    if x:\n",
    "        for i in x:\n",
    "            sum1 = sum1 + i\n",
    "        print(sum1)\n",
    "    else:\n",
    "        print('list is empty')\n",
    "y = [8, 2, 3, 0, 7]\n",
    "sum_of_list(y)"
   ]
  },
  {
   "cell_type": "markdown",
   "metadata": {},
   "source": [
    "## Q2 Write a Python program to reverse a string.\n",
    "\n",
    "Sample String : \"1234abcd\"\n",
    "\n",
    "Expected Output : \"dcba4321\""
   ]
  },
  {
   "cell_type": "code",
   "execution_count": 1,
   "metadata": {},
   "outputs": [
    {
     "name": "stdout",
     "output_type": "stream",
     "text": [
      "dcba4321\n"
     ]
    }
   ],
   "source": [
    "\n",
    "def rev_string(string1):\n",
    "    string2 = string1[::-1]\n",
    "    print(string2)\n",
    "    \n",
    "rev_string('1234abcd')"
   ]
  },
  {
   "cell_type": "markdown",
   "metadata": {},
   "source": [
    "## Q3 Write a Python function that accepts a string and calculate the number of upper case letters and lower case letters.\n",
    "\n",
    "\n",
    "\n",
    "﻿Sample String : 'The quick Brow Fox'\n",
    "\n",
    "Expected Output :\n",
    "\n",
    "No. of Upper case characters : 3\n",
    "\n",
    "No. of Lower case Characters : 12"
   ]
  },
  {
   "cell_type": "code",
   "execution_count": 14,
   "metadata": {},
   "outputs": [
    {
     "name": "stdout",
     "output_type": "stream",
     "text": [
      "No. of Upper case characters : 3 \n",
      "No. of Lower case Characters : 12\n"
     ]
    }
   ],
   "source": [
    "def cal(string1):\n",
    "    c1 = 0\n",
    "    c2 = 0\n",
    "    for i in string1:\n",
    "        if i.isalpha():\n",
    "            if i.isupper():\n",
    "                c1 = c1 + 1\n",
    "            else:\n",
    "                c2 = c2 + 1\n",
    "    print(\"No. of Upper case characters : {0} \\nNo. of Lower case Characters : {1}\".format(c1,c2))\n",
    "    \n",
    "cal('The quick Brow Fox')"
   ]
  },
  {
   "cell_type": "code",
   "execution_count": null,
   "metadata": {},
   "outputs": [],
   "source": []
  }
 ],
 "metadata": {
  "kernelspec": {
   "display_name": "Python 3",
   "language": "python",
   "name": "python3"
  },
  "language_info": {
   "codemirror_mode": {
    "name": "ipython",
    "version": 3
   },
   "file_extension": ".py",
   "mimetype": "text/x-python",
   "name": "python",
   "nbconvert_exporter": "python",
   "pygments_lexer": "ipython3",
   "version": "3.8.3"
  }
 },
 "nbformat": 4,
 "nbformat_minor": 4
}
